{
 "cells": [
  {
   "cell_type": "code",
   "execution_count": 1,
   "metadata": {
    "collapsed": true
   },
   "outputs": [],
   "source": [
    "# Use gammaln for stability\n",
    "%matplotlib inline\n",
    "import matplotlib.pyplot as plt\n",
    "import numpy as np\n",
    "import time\n",
    "from scipy import linalg\n",
    "from scipy.io import loadmat\n",
    "from scipy.misc import logsumexp\n",
    "from scipy.special import digamma, gammaln, multigammaln\n",
    "from scipy.stats import wishart\n",
    "from sklearn.covariance import empirical_covariance"
   ]
  },
  {
   "cell_type": "code",
   "execution_count": 9,
   "metadata": {
    "collapsed": false
   },
   "outputs": [
    {
     "name": "stdout",
     "output_type": "stream",
     "text": [
      "(32, 55000)\n",
      "(32,)\n"
     ]
    }
   ],
   "source": [
    "with np.load('train_data.npz', 'rb') as data:\n",
    "    encoded_X = data['train_encoded'].T\n",
    "    train_labels_one_hot = data['train_labels']\n",
    "    \n",
    "print encoded_X.shape\n",
    "# Centre points\n",
    "mean_X = np.mean(encoded_X, axis=1)\n",
    "std_X = np.std(encoded_X, axis=1)\n",
    "X = ((encoded_X.T - mean_X)/std_X).T"
   ]
  },
  {
   "cell_type": "code",
   "execution_count": 3,
   "metadata": {
    "collapsed": false
   },
   "outputs": [],
   "source": [
    "train_labels = []\n",
    "for i in range(train_labels_one_hot.shape[0]):\n",
    "    train_labels.append(np.argmax(train_labels_one_hot[i, :]))"
   ]
  },
  {
   "cell_type": "code",
   "execution_count": 4,
   "metadata": {
    "collapsed": true
   },
   "outputs": [],
   "source": [
    "classified_X = {}\n",
    "for i in range(len(train_labels)):\n",
    "    try:\n",
    "        classified_X[train_labels[i]].append(encoded_X[:, i])\n",
    "    except KeyError:\n",
    "        classified_X[train_labels[i]] = [encoded_X[:, i]]"
   ]
  },
  {
   "cell_type": "code",
   "execution_count": 5,
   "metadata": {
    "collapsed": false
   },
   "outputs": [],
   "source": [
    "for i in range(10):\n",
    "    classified_X[i] = np.column_stack(classified_X[i])"
   ]
  },
  {
   "cell_type": "code",
   "execution_count": 6,
   "metadata": {
    "collapsed": false
   },
   "outputs": [],
   "source": [
    "with open('classified_X.npz', 'wb') as f:\n",
    "    np.savez(f, X=classified_X)"
   ]
  },
  {
   "cell_type": "code",
   "execution_count": 7,
   "metadata": {
    "collapsed": true
   },
   "outputs": [],
   "source": [
    "classified_X_Test = np.load('classified_X.npz')\n",
    "X = classified_X_Test['X'][()]"
   ]
  }
 ],
 "metadata": {
  "kernelspec": {
   "display_name": "Python 2",
   "language": "python",
   "name": "python2"
  },
  "language_info": {
   "codemirror_mode": {
    "name": "ipython",
    "version": 2
   },
   "file_extension": ".py",
   "mimetype": "text/x-python",
   "name": "python",
   "nbconvert_exporter": "python",
   "pygments_lexer": "ipython2",
   "version": "2.7.12"
  }
 },
 "nbformat": 4,
 "nbformat_minor": 1
}
