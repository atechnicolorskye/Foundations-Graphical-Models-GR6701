{
 "cells": [
  {
   "cell_type": "code",
   "execution_count": 1,
   "metadata": {
    "collapsed": true
   },
   "outputs": [],
   "source": [
    "# Use gammaln for stability\n",
    "%matplotlib inline\n",
    "# import matplotlib\n",
    "# matplotlib.use('Agg')\n",
    "\n",
    "import matplotlib.pyplot as plt\n",
    "from matplotlib.ticker import MaxNLocator\n",
    "import numpy as np\n",
    "import time\n",
    "from scipy import linalg\n",
    "from scipy.io import loadmat\n",
    "from scipy.misc import logsumexp\n",
    "from scipy.special import digamma, gammaln, multigammaln\n",
    "from scipy.stats import multivariate_normal, wishart\n",
    "from sklearn.covariance import empirical_covariance"
   ]
  },
  {
   "cell_type": "code",
   "execution_count": 2,
   "metadata": {
    "collapsed": false
   },
   "outputs": [
    {
     "name": "stdout",
     "output_type": "stream",
     "text": [
      "32\n",
      "10000\n"
     ]
    }
   ],
   "source": [
    "# # Load training data\n",
    "# with np.load('train_data.npz', 'rb') as data:\n",
    "#     X = data['train_encoded'].T[:, :1000]\n",
    "    \n",
    "# # Load test data\n",
    "with np.load('lowdim.npz', 'rb') as data:\n",
    "    X = data['test_encoded'].T\n",
    "\n",
    "# # Sanity Check\n",
    "# data = loadmat('hw4_data_mat/data.mat')\n",
    "# X = data['X']\n",
    "\n",
    "d = X.shape[0]\n",
    "num = X.shape[1]\n",
    "np.random.seed(3950)\n",
    "print d\n",
    "print num\n",
    "\n",
    "# Centre the points\n",
    "mean_X = np.mean(X, axis=1)\n",
    "std_X = np.std(X, axis=1)\n",
    "X = ((X.T - mean_X)/std_X).T"
   ]
  },
  {
   "cell_type": "code",
   "execution_count": 3,
   "metadata": {
    "collapsed": false
   },
   "outputs": [],
   "source": [
    "# Set prior parameters\n",
    "c_0 = 1\n",
    "m_0 = 0\n",
    "a_0 = d\n",
    "\n",
    "# Calculate empirical covariance\n",
    "A = empirical_covariance(X.T)\n",
    "# A = empirical_covariance(train_X[0].T)\n",
    "B_0 = 0.05 * A"
   ]
  },
  {
   "cell_type": "code",
   "execution_count": 4,
   "metadata": {
    "collapsed": true
   },
   "outputs": [],
   "source": [
    "def fix_slogdet(slogdet_out):\n",
    "    if slogdet_out[0] == 0:\n",
    "        return 1e-16\n",
    "    else:\n",
    "        return slogdet_out[0] * slogdet_out[1]"
   ]
  },
  {
   "cell_type": "code",
   "execution_count": 5,
   "metadata": {
    "collapsed": true
   },
   "outputs": [],
   "source": [
    "def fix_nans(x):\n",
    "    if np.isnan(x):\n",
    "        return 0\n",
    "    else:\n",
    "        return x"
   ]
  },
  {
   "cell_type": "code",
   "execution_count": 6,
   "metadata": {
    "collapsed": false
   },
   "outputs": [],
   "source": [
    "# t1 of q(c)\n",
    "def t1(a_j, B_j, k):\n",
    "    t1_1 = sum(map(lambda k: digamma(0.5 * (1 - k + a_j)), range(1, d+1)))\n",
    "    t1_2 = fix_slogdet(np.linalg.slogdet(B_j))\n",
    "    return t1_1 - t1_2"
   ]
  },
  {
   "cell_type": "code",
   "execution_count": 7,
   "metadata": {
    "collapsed": true
   },
   "outputs": [],
   "source": [
    "# t2 of q(c)\n",
    "def t2(X, idx, m_j, a_j, pinv_B_j):\n",
    "    return np.dot(np.dot((X[:, idx] - m_j).T, a_j * pinv_B_j), (X[:, idx] - m_j))"
   ]
  },
  {
   "cell_type": "code",
   "execution_count": 8,
   "metadata": {
    "collapsed": true
   },
   "outputs": [],
   "source": [
    "# t3 of q(c)\n",
    "def t3(a_j, pinv_B_j, Sigma_j):\n",
    "    return np.trace(np.dot(a_j * pinv_B_j, Sigma_j))"
   ]
  },
  {
   "cell_type": "code",
   "execution_count": 9,
   "metadata": {
    "collapsed": true
   },
   "outputs": [],
   "source": [
    "# t4 of q(c)\n",
    "def t4(alpha, i):\n",
    "    return digamma(alpha[i]) - digamma(sum(alpha))"
   ]
  },
  {
   "cell_type": "code",
   "execution_count": 10,
   "metadata": {
    "collapsed": false
   },
   "outputs": [],
   "source": [
    "def update_q_c(X, alpha, m, Sigma, a, B, k):\n",
    "    q_c = np.empty((k ,num))\n",
    "    # Calculate pseudoinverse separately as reusuable\n",
    "    pinv_B = map(lambda i: linalg.pinv2(B[i]), range(k))\n",
    "    for i in range(k): \n",
    "        # Calculate t1, t3, t4 first as reusable\n",
    "        q_t1 = t1(a[i], B[i], k)\n",
    "        q_t3 = t3(a[i], pinv_B[i], Sigma[i])\n",
    "        q_t4 = t4(alpha, i)\n",
    "        q_c[i, :] = map(lambda j: 0.5 * (q_t1 - t2(X, j, m[i], a[i], pinv_B[i]) - q_t3) + q_t4, range(num))\n",
    "    for j in range(num):\n",
    "        q_c[:, j] = np.exp(q_c[:, j] - logsumexp(q_c[:, j]))\n",
    "    return q_c, pinv_B"
   ]
  },
  {
   "cell_type": "code",
   "execution_count": 11,
   "metadata": {
    "collapsed": false
   },
   "outputs": [],
   "source": [
    "def cal_n(q_c):\n",
    "    # Returns a k-length vector\n",
    "    return np.sum(q_c, axis=1)"
   ]
  },
  {
   "cell_type": "code",
   "execution_count": 12,
   "metadata": {
    "collapsed": true
   },
   "outputs": [],
   "source": [
    "def update_q_pi(alpha_0, n):\n",
    "    return alpha_0 + n"
   ]
  },
  {
   "cell_type": "code",
   "execution_count": 13,
   "metadata": {
    "collapsed": true
   },
   "outputs": [],
   "source": [
    "def update_q_mu(X, c_0, n, a, pinv_B, q_c, k):\n",
    "    Sigma = map(lambda j: linalg.pinv2(1.0/c_0 * np.identity(d) + n[j]*a[j]*pinv_B[j]), range(k))\n",
    "    m = map(lambda j: np.dot(Sigma[j], a[j]*np.dot(pinv_B[j], np.dot(X, q_c[j, :].T))), range(k))\n",
    "    return Sigma, m"
   ]
  },
  {
   "cell_type": "code",
   "execution_count": 14,
   "metadata": {
    "collapsed": false
   },
   "outputs": [],
   "source": [
    "def update_q_lambda(X, a_0, n, B, B_0, m, Sigma, q_c, k):\n",
    "    a = a_0 + n\n",
    "    x_minus_m = []\n",
    "    for i in range(k):\n",
    "        x_minus_m.append(X.T - m[i])\n",
    "    for i in range(k):\n",
    "        B_2 = sum(map(lambda j: q_c[i, j] * (np.dot(x_minus_m[i][j].reshape((d, 1)), x_minus_m[i][j].reshape((1, d))) + Sigma[i]), range(num)))\n",
    "        B[i] = B_0 + B_2\n",
    "    return a, B"
   ]
  },
  {
   "cell_type": "code",
   "execution_count": 15,
   "metadata": {
    "collapsed": true
   },
   "outputs": [],
   "source": [
    "def cal_E_ln_p_x_i_mu_j_lambda_j(X, E_ln_lambda_j, E_lambda_j, m_j, Sigma_j):\n",
    "    x_minus_m = X.T - m_j\n",
    "    E_x_m_T_lambda_x_m = map(lambda i: -np.dot(np.dot(x_minus_m[i].reshape((1, d)), E_lambda_j), x_minus_m[i].reshape((d, 1))), range(num))\n",
    "    E_x_m_T_lambda_x_m -= np.trace(np.dot(E_lambda_j, Sigma_j))\n",
    "    return np.array(0.5 * E_x_m_T_lambda_x_m + 0.5 * E_ln_lambda_j).reshape((num))"
   ]
  },
  {
   "cell_type": "code",
   "execution_count": 16,
   "metadata": {
    "collapsed": true
   },
   "outputs": [],
   "source": [
    "def cal_E_ln_pi(alpha, k):\n",
    "    return map(lambda i: digamma(alpha[i]) - digamma(sum(alpha)), range(k))"
   ]
  },
  {
   "cell_type": "code",
   "execution_count": 17,
   "metadata": {
    "collapsed": false
   },
   "outputs": [],
   "source": [
    "def cal_L1(X, alpha, E_ln_lambda, E_lambda, m, Sigma, c, k):\n",
    "    t2 = np.empty((k, num))\n",
    "    for i in range(k):\n",
    "        t2[i, :] = cal_E_ln_p_x_i_mu_j_lambda_j(X, E_ln_lambda[i], E_lambda[i], m[i], Sigma[i])\n",
    "    t3 = np.array(cal_E_ln_pi(alpha, k)).reshape((1, k)) \n",
    "    t23 = t2 + t3.T\n",
    "    L1 = 0\n",
    "    for j in range(num):\n",
    "        L1 += sum(map(lambda i: c[i, j] * t23[i, j], range(k)))\n",
    "    return L1"
   ]
  },
  {
   "cell_type": "code",
   "execution_count": 18,
   "metadata": {
    "collapsed": true
   },
   "outputs": [],
   "source": [
    "def cal_E_ln_lambda(a, B, k):\n",
    "    E_ln_lambda = []\n",
    "    for i in range(k):\n",
    "        t1 = fix_slogdet(np.linalg.slogdet(B[i]))\n",
    "        t2 = sum(map(lambda j: digamma(0.5 * (a[i] + 1 - j)), range(1, d+1)))\n",
    "        E_ln_lambda.append(-t1 + t2)\n",
    "    return E_ln_lambda"
   ]
  },
  {
   "cell_type": "code",
   "execution_count": 19,
   "metadata": {
    "collapsed": false
   },
   "outputs": [],
   "source": [
    "def cal_E_lambda(a, B):\n",
    "    return map(lambda a_B: a_B[0] * linalg.pinv2(a_B[1]), zip(a, B))"
   ]
  },
  {
   "cell_type": "code",
   "execution_count": 20,
   "metadata": {
    "collapsed": true
   },
   "outputs": [],
   "source": [
    "def cal_E_ln_p_mu(m):\n",
    "    return map(lambda mu: -0.5*(np.dot(np.dot(mu.reshape((1, d)), 1/float(c_0) * np.identity(d)), mu.reshape((d, 1)))), m)"
   ]
  },
  {
   "cell_type": "code",
   "execution_count": 21,
   "metadata": {
    "collapsed": false
   },
   "outputs": [],
   "source": [
    "def cal_E_ln_p_lambda(E_ln_lambda, E_lambda, B_0):\n",
    "    return map(lambda lbda: -0.5*(lbda[0] + np.trace(np.dot(B_0, lbda[1]))), zip(E_ln_lambda, E_lambda))"
   ]
  },
  {
   "cell_type": "code",
   "execution_count": 22,
   "metadata": {
    "collapsed": true
   },
   "outputs": [],
   "source": [
    "def cal_L2(E_ln_p_mu, E_ln_p_lambda):\n",
    "    return sum(E_ln_p_mu + E_ln_p_lambda)"
   ]
  },
  {
   "cell_type": "code",
   "execution_count": 23,
   "metadata": {
    "collapsed": true
   },
   "outputs": [],
   "source": [
    "def cal_L3(c, k):\n",
    "    L3 = 0\n",
    "    for j in range(num):\n",
    "        # print (map(lambda i: c[i, j], range(k)))\n",
    "        L3 += sum(map(lambda i: fix_nans(c[i, j] * np.log(c[i, j])), range(k)))\n",
    "    return L3"
   ]
  },
  {
   "cell_type": "code",
   "execution_count": 24,
   "metadata": {
    "collapsed": true
   },
   "outputs": [],
   "source": [
    "def cal_L4(alpha, k):\n",
    "    sum_alpha = sum(alpha)\n",
    "    t1 = sum(map(lambda i: gammaln(alpha[i]), range(k)))\n",
    "    t2 = gammaln(sum_alpha)\n",
    "    t3 = (k - sum_alpha) * digamma(sum_alpha)\n",
    "    t4 = sum(map(lambda i: (alpha[i]-1) * digamma(alpha[i]), range(k)))\n",
    "    return t1 - t2 - t3 - t4"
   ]
  },
  {
   "cell_type": "code",
   "execution_count": 25,
   "metadata": {
    "collapsed": true
   },
   "outputs": [],
   "source": [
    "def cal_L5(Sigma, k):\n",
    "    log_det = map(lambda i: fix_slogdet(np.linalg.slogdet(2 * np.pi * np.exp(1) * Sigma[i])), range(k))\n",
    "    return 0.5 * sum(log_det)"
   ]
  },
  {
   "cell_type": "code",
   "execution_count": 26,
   "metadata": {
    "collapsed": true
   },
   "outputs": [],
   "source": [
    "def cal_L6(a, B, E_ln_lambda, E_lambda, k):\n",
    "    log_det = map(lambda i: fix_slogdet(np.linalg.slogdet(B[i])), range(k))\n",
    "    return sum(map(lambda i: -0.5 * a[i] * log_det[i] + 0.5 * a[i] * d * np.log(2) + multigammaln(a[i]/2, d) - 0.5 * (a[i] - d - 1) *  E_ln_lambda[i] - np.trace(np.dot(B[i], E_lambda[i])), range(k)))"
   ]
  },
  {
   "cell_type": "code",
   "execution_count": 27,
   "metadata": {
    "collapsed": true
   },
   "outputs": [],
   "source": [
    "def VI(X, k):\n",
    "    # Initialise variables\n",
    "    alpha_0 = np.ones(k)\n",
    "    alpha = alpha_0\n",
    "    m = [np.random.uniform(-1, 1, d) for i in range(k)]\n",
    "    Sigma = [c_0 * np.identity(d)] * k\n",
    "    a = [a_0] * k\n",
    "    B = [B_0] * k\n",
    "    L = []\n",
    "    \n",
    "    # Run VI\n",
    "    for i in range(150):\n",
    "        start_time = time.time()\n",
    "        # Update hyperparameters\n",
    "        c, pinv_B = update_q_c(X, alpha, m, Sigma, a, B, k)\n",
    "        update_c_time = time.time()\n",
    "        n = cal_n(c)\n",
    "        # print a\n",
    "        # print n\n",
    "        alpha = update_q_pi(alpha_0, n)\n",
    "        update_alpha_time = time.time()\n",
    "        Sigma, m = update_q_mu(X, c_0, n, a, pinv_B, c, k)\n",
    "        update_mu_time = time.time()\n",
    "        a, B = update_q_lambda(X, a_0, n, B, B_0, m, Sigma, c, k)\n",
    "        update_lambda_time = time.time()\n",
    "        \n",
    "        # Calculate likelihood\n",
    "        E_ln_lambda = cal_E_ln_lambda(a, B, k)\n",
    "        E_lambda = cal_E_lambda(a, B)\n",
    "        L1 = cal_L1(X, alpha, E_ln_lambda, E_lambda, m, Sigma, c, k)\n",
    "        E_ln_p_mu = cal_E_ln_p_mu(m)\n",
    "        E_ln_p_lambda = cal_E_ln_p_lambda(E_ln_lambda, E_lambda, B_0)\n",
    "        L2 = cal_L2(E_ln_p_mu, E_ln_p_lambda)\n",
    "        L3 = cal_L3(c, k)\n",
    "        L4 = cal_L4(alpha, k)\n",
    "        L5 = cal_L5(Sigma, k)\n",
    "        L6 = cal_L6(a, B, E_ln_lambda, E_lambda, k)\n",
    "        LL = L1 + L2 - L3 + L4 + L5 + L6\n",
    "        L.append(LL.flatten()[0])\n",
    "        end_time = time.time()\n",
    "    \n",
    "        print 'Iteration ' + str(i), (end_time - update_lambda_time), (update_lambda_time - update_mu_time), (update_mu_time - update_alpha_time), (update_alpha_time - update_c_time), (update_c_time - start_time)\n",
    "    \n",
    "    s = map(lambda i: B[i]/float(a[i]), range(k))\n",
    "    return L, c, m, s"
   ]
  },
  {
   "cell_type": "code",
   "execution_count": 28,
   "metadata": {
    "collapsed": false
   },
   "outputs": [],
   "source": [
    "def plot_clusters(X, c, k, num):\n",
    "    cluster = {}\n",
    "    for i in range(k):\n",
    "        cluster[i] = [[], []]\n",
    "    for i in range(num):\n",
    "        assignment = np.argmax(c[:, i])\n",
    "        cluster[assignment][0].append(X[2:4, i][0])\n",
    "        cluster[assignment][1].append(X[2:4, i][1])\n",
    "    color = iter(plt.cm.rainbow(np.linspace(0,1,k)))\n",
    "    for i in range(k):\n",
    "        plt.scatter(cluster[i][0], cluster[i][1], label='Cluster_' + str(i), c=next(color), marker='o')\n",
    "    plt.legend(loc='center left', bbox_to_anchor=(1, 0.5))\n",
    "    plt.title('Plot of Clusters (K = ' + str(k) + ')')"
   ]
  },
  {
   "cell_type": "code",
   "execution_count": 29,
   "metadata": {
    "collapsed": false
   },
   "outputs": [],
   "source": [
    "# Done on server\n",
    "# L_10, c_10, m_10, s_10 = VI(X, 10)\n",
    "# plt.plot(range(150), L_10)\n",
    "# plt.xlabel('Iterations')\n",
    "# plt.ylabel('Variational Objective Function')\n",
    "# plt.title('Variational Objective Function against Iterations (K = 10)')\n",
    "# plt.savefig('VI.png')"
   ]
  },
  {
   "cell_type": "code",
   "execution_count": 30,
   "metadata": {
    "collapsed": false
   },
   "outputs": [],
   "source": [
    "Run_1 = np.load('E_mu_sigma_Run_1.npz', 'rb')"
   ]
  },
  {
   "cell_type": "code",
   "execution_count": 31,
   "metadata": {
    "collapsed": false
   },
   "outputs": [],
   "source": [
    "mu = Run_1['mu']\n",
    "sigma = Run_1['sigma']"
   ]
  },
  {
   "cell_type": "code",
   "execution_count": 32,
   "metadata": {
    "collapsed": false
   },
   "outputs": [],
   "source": [
    "assignments = np.zeros((10, num))\n",
    "for i in range(10):\n",
    "    assignments[i, :] = map(lambda j: multivariate_normal.logpdf(X[:, j], mu[i], sigma[i]), range(num))"
   ]
  },
  {
   "cell_type": "code",
   "execution_count": 33,
   "metadata": {
    "collapsed": false
   },
   "outputs": [],
   "source": [
    "test_labels = np.load('Test_Labels.npy')"
   ]
  },
  {
   "cell_type": "code",
   "execution_count": 34,
   "metadata": {
    "collapsed": false
   },
   "outputs": [],
   "source": [
    "pred_label = {}\n",
    "for i in range(num):\n",
    "    try:\n",
    "        pred_label[np.argmax(assignments[:, i])].append(i)\n",
    "    except KeyError:\n",
    "        pred_label[np.argmax(assignments[:, i])] = [i]"
   ]
  },
  {
   "cell_type": "code",
   "execution_count": 35,
   "metadata": {
    "collapsed": false
   },
   "outputs": [
    {
     "ename": "NameError",
     "evalue": "name 'test_label' is not defined",
     "output_type": "error",
     "traceback": [
      "\u001b[0;31m---------------------------------------------------------------------------\u001b[0m",
      "\u001b[0;31mNameError\u001b[0m                                 Traceback (most recent call last)",
      "\u001b[0;32m<ipython-input-35-898915a3e1b0>\u001b[0m in \u001b[0;36m<module>\u001b[0;34m()\u001b[0m\n\u001b[1;32m      2\u001b[0m \u001b[0;32mfor\u001b[0m \u001b[0mi\u001b[0m \u001b[0;32min\u001b[0m \u001b[0mrange\u001b[0m\u001b[0;34m(\u001b[0m\u001b[0mnum\u001b[0m\u001b[0;34m)\u001b[0m\u001b[0;34m:\u001b[0m\u001b[0;34m\u001b[0m\u001b[0m\n\u001b[1;32m      3\u001b[0m     \u001b[0;32mtry\u001b[0m\u001b[0;34m:\u001b[0m\u001b[0;34m\u001b[0m\u001b[0m\n\u001b[0;32m----> 4\u001b[0;31m         \u001b[0mtrue_label\u001b[0m\u001b[0;34m[\u001b[0m\u001b[0mnp\u001b[0m\u001b[0;34m.\u001b[0m\u001b[0margmax\u001b[0m\u001b[0;34m(\u001b[0m\u001b[0mtest_label\u001b[0m\u001b[0;34m[\u001b[0m\u001b[0mi\u001b[0m\u001b[0;34m,\u001b[0m \u001b[0;34m:\u001b[0m\u001b[0;34m]\u001b[0m\u001b[0;34m)\u001b[0m\u001b[0;34m]\u001b[0m\u001b[0;34m.\u001b[0m\u001b[0mappend\u001b[0m\u001b[0;34m(\u001b[0m\u001b[0mi\u001b[0m\u001b[0;34m)\u001b[0m\u001b[0;34m\u001b[0m\u001b[0m\n\u001b[0m\u001b[1;32m      5\u001b[0m     \u001b[0;32mexcept\u001b[0m \u001b[0mKeyError\u001b[0m\u001b[0;34m:\u001b[0m\u001b[0;34m\u001b[0m\u001b[0m\n\u001b[1;32m      6\u001b[0m         \u001b[0mtrue_label\u001b[0m\u001b[0;34m[\u001b[0m\u001b[0mnp\u001b[0m\u001b[0;34m.\u001b[0m\u001b[0margmax\u001b[0m\u001b[0;34m(\u001b[0m\u001b[0mtest_label\u001b[0m\u001b[0;34m[\u001b[0m\u001b[0mi\u001b[0m\u001b[0;34m,\u001b[0m \u001b[0;34m:\u001b[0m\u001b[0;34m]\u001b[0m\u001b[0;34m)\u001b[0m\u001b[0;34m]\u001b[0m \u001b[0;34m=\u001b[0m \u001b[0;34m[\u001b[0m\u001b[0mi\u001b[0m\u001b[0;34m]\u001b[0m\u001b[0;34m\u001b[0m\u001b[0m\n",
      "\u001b[0;31mNameError\u001b[0m: name 'test_label' is not defined"
     ]
    }
   ],
   "source": [
    "true_label = {}\n",
    "for i in range(num):\n",
    "    try:\n",
    "        true_label[np.argmax(test_labels[i, :])].append(i)\n",
    "    except KeyError:\n",
    "        true_label[np.argmax(test_labels[i, :])] = [i]"
   ]
  },
  {
   "cell_type": "code",
   "execution_count": null,
   "metadata": {
    "collapsed": false
   },
   "outputs": [],
   "source": [
    "label_matrix = np.empty((10, 10))\n",
    "for j in true_label.keys():\n",
    "    true_set = set(true_label[j])\n",
    "    for i in pred_label.keys():\n",
    "        pred_set = set(pred_label[i])\n",
    "        label_matrix[j, i] = len(pred_set.intersection(true_set))\n",
    "x = label_matrix[[False, False, False, False, False, True, False, False, True, False], :][:, [False, False, False, False, False, False, False, True, False, False]]\n",
    "print np.max(x)\n",
    "print x"
   ]
  },
  {
   "cell_type": "code",
   "execution_count": null,
   "metadata": {
    "collapsed": false
   },
   "outputs": [],
   "source": [
    "np.set_printoptions(linewidth=150)\n",
    "print label_matrix"
   ]
  },
  {
   "cell_type": "code",
   "execution_count": null,
   "metadata": {
    "collapsed": false
   },
   "outputs": [],
   "source": [
    "sum(sum(label_matrix[[range(10)], [1, 2, 4, 8, 3, 7, 6, 9, 5, 0]]))"
   ]
  },
  {
   "cell_type": "code",
   "execution_count": null,
   "metadata": {
    "collapsed": false
   },
   "outputs": [],
   "source": [
    "pred_assignments = []\n",
    "labels = []\n",
    "for i in range(num):\n",
    "    pred_assignments.append(np.argmax(assignments[:, i]))\n",
    "    labels.append(np.argmax(test_labels[i, :]))"
   ]
  },
  {
   "cell_type": "code",
   "execution_count": null,
   "metadata": {
    "collapsed": false
   },
   "outputs": [],
   "source": [
    "def plot_dist(assignments, labels):\n",
    "    f, a = plt.subplots(2, 5, figsize=(12, 5))\n",
    "    for i in range(10):\n",
    "        dist = labels[np.where(assignments == i)]\n",
    "        j = i / 5\n",
    "        k = i % 5\n",
    "        a[j][k].set_ylim([0, 1000])\n",
    "        a[j][k].set_xlim([0, 10])\n",
    "        a[j][k].hist(dist)\n",
    "    for array in a:\n",
    "        for subplots in array:\n",
    "            subplots.xaxis.set_major_locator(MaxNLocator(integer=True))\n",
    "    plt.tight_layout()"
   ]
  },
  {
   "cell_type": "code",
   "execution_count": null,
   "metadata": {
    "collapsed": false
   },
   "outputs": [],
   "source": [
    "plot_dist(np.array(pred_assignments), np.array(labels))"
   ]
  },
  {
   "cell_type": "code",
   "execution_count": null,
   "metadata": {
    "collapsed": true
   },
   "outputs": [],
   "source": []
  }
 ],
 "metadata": {
  "kernelspec": {
   "display_name": "Python 2",
   "language": "python",
   "name": "python2"
  },
  "language_info": {
   "codemirror_mode": {
    "name": "ipython",
    "version": 2
   },
   "file_extension": ".py",
   "mimetype": "text/x-python",
   "name": "python",
   "nbconvert_exporter": "python",
   "pygments_lexer": "ipython2",
   "version": "2.7.12"
  }
 },
 "nbformat": 4,
 "nbformat_minor": 1
}
